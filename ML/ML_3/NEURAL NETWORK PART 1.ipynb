{
 "cells": [
  {
   "cell_type": "markdown",
   "id": "a156f6eb-bada-414b-b8b3-bd5714ddc4cb",
   "metadata": {},
   "source": [
    "### NEURAL NETWORK LIBRARY\n"
   ]
  },
  {
   "cell_type": "code",
   "execution_count": 2,
   "id": "a5a10b70-aa8e-45d7-91dd-10c944236526",
   "metadata": {},
   "outputs": [],
   "source": [
    "import numpy as np\n",
    "\n",
    "class Layer:\n",
    "    def __init__(self):\n",
    "        pass\n",
    "\n",
    "    def forward(self, input):\n",
    "        raise NotImplementedError\n",
    "\n",
    "    def backward(self, grad_output):\n",
    "        raise NotImplementedError\n",
    "\n",
    "class Linear(Layer):\n",
    "    def __init__(self, input_dim, output_dim):\n",
    "        super().__init__()\n",
    "        self.input_dim = input_dim\n",
    "        self.output_dim = output_dim\n",
    "\n",
    "        \n",
    "        limit = np.sqrt(6 / (input_dim + output_dim))\n",
    "        self.weights = np.random.uniform(-limit, limit, (output_dim, input_dim))\n",
    "        self.biases = np.zeros(output_dim)\n",
    "\n",
    "        self.grad_weights = np.zeros_like(self.weights)\n",
    "        self.grad_biases = np.zeros_like(self.biases)\n",
    "        \n",
    "    def forward(self, input):\n",
    "        if input.shape[1] != self.input_dim:\n",
    "            raise ValueError(f\"Input dimension mismatch. Expected {self.input_dim}, got {input.shape[1]}\")\n",
    "        \n",
    "        self.input = input  # Store for backward pass\n",
    "        return np.dot(input, self.weights.T) + self.biases\n",
    "\n",
    "    def backward(self, grad_output):\n",
    "        # Ensure grad_output is 2D\n",
    "        if grad_output.ndim == 1:\n",
    "            grad_output = grad_output.reshape(-1, 1)\n",
    "\n",
    "        grad_input = np.dot(grad_output, self.weights)\n",
    "        self.grad_weights = np.dot(grad_output.T, self.input)\n",
    "        self.grad_biases = np.sum(grad_output, axis=0)\n",
    "\n",
    "        return grad_input\n",
    "        \n",
    "# Sigmoid activation layer\n",
    "class Sigmoid(Layer):\n",
    "    def forward(self, input):\n",
    "        self.output = 1 / (1 + np.exp(-input))\n",
    "        return self.output\n",
    "\n",
    "    def backward(self, grad_output):\n",
    "        return self.output * (1 - self.output) * grad_output\n",
    "    \n",
    "class Tanh(Layer):\n",
    "    def forward(self, input):\n",
    "        self.output = np.tanh(input)\n",
    "        return self.output\n",
    "\n",
    "    def backward(self, grad_output):\n",
    "        return (1 - self.output ** 2) * grad_output\n",
    "\n",
    "    \n",
    "class ReLU(Layer):\n",
    "    def forward(self, input):\n",
    "        self.input = input\n",
    "        return np.maximum(0, input)\n",
    "\n",
    "    def backward(self, grad_output):\n",
    "        grad_input = grad_output.copy()\n",
    "        grad_input[self.input <= 0] = 0\n",
    "        return grad_input\n",
    "\n",
    "class BinaryCrossEntropy(Layer):\n",
    "    def forward(self, predictions, targets):\n",
    "        # Avoid division by zero\n",
    "        predictions = np.clip(predictions, 1e-12, 1. - 1e-12)\n",
    "        # Calculate binary cross-entropy\n",
    "        loss = -np.mean(targets * np.log(predictions) + (1 - targets) * np.log(1 - predictions))\n",
    "        return loss\n",
    "\n",
    "    def backward(self, predictions, targets):\n",
    "        # Avoid division by zero\n",
    "        predictions = np.clip(predictions, 1e-12, 1. - 1e-12)\n",
    "        # Compute gradient of loss with respect to predictions\n",
    "        grad_input = (predictions - targets) / (predictions * (1 - predictions) * predictions.shape[0])\n",
    "        return grad_input\n",
    "\n",
    "\n",
    "\n",
    "class Sequential(Layer):\n",
    "    def __init__(self):\n",
    "        super().__init__()\n",
    "        self.layers = []\n",
    "\n",
    "    def add(self, layer):\n",
    "        self.layers.append(layer)\n",
    "\n",
    "    def forward(self, input):\n",
    "        for layer in self.layers:\n",
    "            input = layer.forward(input)\n",
    "        return input\n",
    "\n",
    "    def backward(self, grad_output):\n",
    "        for layer in reversed(self.layers):\n",
    "            grad_output = layer.backward(grad_output)\n",
    "        return grad_output\n",
    "\n",
    "\n",
    "\n",
    "def save_model(model, file_name):\n",
    "    weights = {}\n",
    "    for idx, layer in enumerate(model.layers):\n",
    "        if hasattr(layer, 'weights'):\n",
    "            weights[f'weights_{idx}'] = layer.weights\n",
    "            weights[f'biases_{idx}'] = layer.biases\n",
    "    np.savez(file_name, **weights)\n",
    "\n",
    "def load_model(model, file_name):\n",
    "    data = np.load(file_name)\n",
    "    for idx, layer in enumerate(model.layers):\n",
    "        if hasattr(layer, 'weights'):\n",
    "            layer.weights = data[f'weights_{idx}']\n",
    "            layer.biases = data[f'biases_{idx}']\n"
   ]
  },
  {
   "cell_type": "markdown",
   "id": "38d67807-0a46-45e4-aa2f-413476d7e220",
   "metadata": {},
   "source": [
    "### 1. SIGMOID ACTIVATION FUNCTION"
   ]
  },
  {
   "cell_type": "code",
   "execution_count": 3,
   "id": "9400baad",
   "metadata": {},
   "outputs": [
    {
     "name": "stdout",
     "output_type": "stream",
     "text": [
      "Epoch 0, Loss: 0.8071524112883687\n",
      "Epoch 1000, Loss: 0.6789266327900263\n",
      "Epoch 2000, Loss: 0.6010824636307509\n",
      "Epoch 3000, Loss: 0.47038522712502484\n",
      "Epoch 4000, Loss: 0.1959639054068461\n",
      "Epoch 5000, Loss: 0.07977486951972554\n",
      "Epoch 6000, Loss: 0.046665783068421514\n",
      "Epoch 7000, Loss: 0.03241422394211989\n",
      "Epoch 8000, Loss: 0.024659267402546217\n",
      "Epoch 9000, Loss: 0.01982803218806773\n",
      "Final Accuracy: 1.0\n"
     ]
    }
   ],
   "source": [
    "import matplotlib.pyplot as plt\n",
    "import numpy as np\n",
    "\n",
    "\n",
    "# XOR dataset\n",
    "X = np.array([[0,0],[0,1],[1,0],[1,1]])\n",
    "Y = np.array([[0],[1],[1],[0]])\n",
    "\n",
    "# Model definition\n",
    "model = Sequential()\n",
    "model.add(Linear(2, 2))\n",
    "model.add(Sigmoid())\n",
    "model.add(Linear(2, 1))\n",
    "model.add(Sigmoid())\n",
    "\n",
    "# Training parameters\n",
    "learning_rate = 0.1\n",
    "n_epochs = 10000\n",
    "\n",
    "# Instantiate the loss layer once before the training loop\n",
    "loss_layer = BinaryCrossEntropy()\n",
    "\n",
    "# Training loop\n",
    "for epoch in range(n_epochs):\n",
    "    # Forward pass\n",
    "    predictions = model.forward(X)\n",
    "    # Compute loss\n",
    "    loss = loss_layer.forward(predictions, Y)\n",
    "    # Compute gradients with respect to predictions\n",
    "    grad_loss = loss_layer.backward(predictions, Y)  # Corrected to pass predictions and targets\n",
    "    # Backward pass through the model\n",
    "    grad_input = grad_loss\n",
    "    for layer in reversed(model.layers):\n",
    "        if hasattr(layer, 'backward'):\n",
    "            grad_input = layer.backward(grad_input)  # Ensure backward is defined and called\n",
    "\n",
    "    # Parameters update\n",
    "    for layer in model.layers:\n",
    "        if isinstance(layer, Linear):\n",
    "            layer.weights -= learning_rate * layer.grad_weights\n",
    "            layer.biases -= learning_rate * layer.grad_biases\n",
    "\n",
    "    if epoch % 1000 == 0:\n",
    "        print(f\"Epoch {epoch}, Loss: {loss}\")\n",
    "\n",
    "# Calculate final accuracy\n",
    "final_predictions = model.forward(X)\n",
    "correct_predictions = np.sum((final_predictions > 0.5) == Y)\n",
    "total_examples = Y.shape[0]\n",
    "final_accuracy = correct_predictions / total_examples\n",
    "print(f\"Final Accuracy: {final_accuracy}\")\n",
    "\n",
    "# Save the model weights\n",
    "save_model(model, \"model2_nnxor_weights.npz\")\n",
    "\n",
    "# Load the model weights\n",
    "load_model(model, \"model2_nnxor_weights.npz\")"
   ]
  },
  {
   "cell_type": "markdown",
   "id": "42561a2e-a680-4c8e-86ea-7b6eb71e3995",
   "metadata": {},
   "source": [
    "### WEIGHTS & BIASES"
   ]
  },
  {
   "cell_type": "code",
   "execution_count": 4,
   "id": "8eb2503b-db3e-4be2-9d95-0bdf31dcd370",
   "metadata": {},
   "outputs": [
    {
     "name": "stdout",
     "output_type": "stream",
     "text": [
      "Layer 0 weights:\n",
      " [[6.56906571 6.5751495 ]\n",
      " [4.60149937 4.60253323]]\n",
      "Layer 0 biases:\n",
      " [-2.8873947  -7.04025048]\n",
      "Layer 2 weights:\n",
      " [[  9.70372595 -10.41352544]]\n",
      "Layer 2 biases:\n",
      " [-4.44429475]\n",
      "Sigmoid layer 1 output:\n",
      " [[5.27802172e-02 8.75140596e-04]\n",
      " [9.75582980e-01 8.03414159e-02]\n",
      " [9.75437639e-01 8.02650602e-02]\n",
      " [9.99964884e-01 8.96949659e-01]]\n",
      "Sigmoid layer 3 output:\n",
      " [[0.01905395]\n",
      " [0.9850187 ]\n",
      " [0.98500962]\n",
      " [0.01660483]]\n"
     ]
    }
   ],
   "source": [
    "def print_model_weights(model):\n",
    "    for idx, layer in enumerate(model.layers):\n",
    "        if hasattr(layer, 'weights'):\n",
    "            print(f\"Layer {idx} weights:\\n\", layer.weights)\n",
    "            print(f\"Layer {idx} biases:\\n\", layer.biases)\n",
    "\n",
    "print_model_weights(model)\n",
    "\n",
    "def print_Sigmoid_outputs(model, X):\n",
    "    input = X\n",
    "    for idx, layer in enumerate(model.layers):\n",
    "        output = layer.forward(input)\n",
    "        if isinstance(layer,Sigmoid ):\n",
    "            print(f\"Sigmoid layer {idx} output:\\n\", output)\n",
    "        input = output\n",
    "\n",
    "print_Sigmoid_outputs(model, X)"
   ]
  },
  {
   "cell_type": "markdown",
   "id": "5a8c7293-5df9-474c-ab47-561033c02926",
   "metadata": {},
   "source": [
    "### DECISION BOUNDARY"
   ]
  },
  {
   "cell_type": "code",
   "execution_count": 5,
   "id": "ebe33355",
   "metadata": {},
   "outputs": [
    {
     "data": {
      "image/png": "[encoded data removed]",
      "text/plain": [
       "<Figure size 640x480 with 1 Axes>"
      ]
     },
     "metadata": {},
     "output_type": "display_data"
    }
   ],
   "source": [
    "def plot_decision_boundary(model, X, Y):\n",
    "    # Set min and max values and give it some padding\n",
    "    x_min, x_max = X[:, 0].min() - 1, X[:, 0].max() + 1\n",
    "    y_min, y_max = X[:, 1].min() - 1, X[:, 1].max() + 1\n",
    "    h = 0.01\n",
    "    # Generate a grid of points with distance h between them\n",
    "    xx, yy = np.meshgrid(np.arange(x_min, x_max, h), np.arange(y_min, y_max, h))\n",
    "    # Predict the function value for the whole grid\n",
    "    Z = model.forward(np.c_[xx.ravel(), yy.ravel()])\n",
    "    Z = Z.reshape(xx.shape)\n",
    "    # Plot the contour and training examples\n",
    "    plt.contourf(xx, yy, Z, alpha=0.5)\n",
    "    plt.scatter(X[:, 0], X[:, 1], c=Y[:, 0], alpha=0.5)\n",
    "    plt.title(\"Decision Boundary for XOR problem\")\n",
    "    plt.show()\n",
    "\n",
    "plot_decision_boundary(model, X, Y)\n"
   ]
  },
  {
   "cell_type": "markdown",
   "id": "51d63fdf-f189-4e23-8702-1bfce5217ac2",
   "metadata": {},
   "source": [
    "### HIDDEN LAYER"
   ]
  },
  {
   "cell_type": "code",
   "execution_count": 6,
   "id": "27fa40f2",
   "metadata": {},
   "outputs": [
    {
     "name": "stdout",
     "output_type": "stream",
     "text": [
      "Hidden layer values:\n",
      " [[-2.8873947  -7.04025048]\n",
      " [ 3.6877548  -2.43771724]\n",
      " [ 3.681671   -2.43875111]\n",
      " [10.2568205   2.16378213]]\n"
     ]
    },
    {
     "data": {
      "image/png": "[encoded data removed]",
      "text/plain": [
       "<Figure size 640x480 with 1 Axes>"
      ]
     },
     "metadata": {},
     "output_type": "display_data"
    }
   ],
   "source": [
    "from sklearn.linear_model import LinearRegression\n",
    "\n",
    "def plot_hidden_layer_with_regression(model, X):\n",
    "    # Get hidden layer values\n",
    "    hidden_layer_values = model.layers[0].forward(X)\n",
    "    \n",
    "    # Plot the hidden layer values\n",
    "    plt.scatter(hidden_layer_values[:, 0], hidden_layer_values[:, 1], c='b', alpha=0.5)\n",
    "    \n",
    "    # Fit a linear regression line\n",
    "    lr = LinearRegression()\n",
    "    lr.fit(hidden_layer_values[:, 0].reshape(-1, 1), hidden_layer_values[:, 1].reshape(-1, 1))\n",
    "    x_values = np.linspace(np.min(hidden_layer_values[:, 0]), np.max(hidden_layer_values[:, 0]), 100)\n",
    "    y_values = lr.predict(x_values.reshape(-1, 1))\n",
    "\n",
    "    # Get hidden layer values\n",
    "    hidden_layer_values = model.layers[0].forward(X)\n",
    "    \n",
    "    # Print hidden layer values\n",
    "    print(\"Hidden layer values:\\n\", hidden_layer_values)\n",
    "    \n",
    "    # Plot the linear regression line\n",
    "    plt.plot(x_values, y_values, c='r')\n",
    "    \n",
    "    plt.title(\"Output of Hidden Layer with Regression Line\")\n",
    "    plt.xlabel(\"Hidden Neuron 1\")\n",
    "    plt.ylabel(\"Hidden Neuron 2\")\n",
    "    plt.show()\n",
    "\n",
    "plot_hidden_layer_with_regression(model, X)\n"
   ]
  },
  {
   "cell_type": "markdown",
   "id": "961ef0f5-2c2d-44f0-8b14-f5f94560f3d7",
   "metadata": {},
   "source": [
    "### 2.TANH FUNCTION"
   ]
  },
  {
   "cell_type": "code",
   "execution_count": 9,
   "id": "b85d2f71-3c02-4bb2-99d9-f65db77771a9",
   "metadata": {},
   "outputs": [
    {
     "name": "stdout",
     "output_type": "stream",
     "text": [
      "Epoch 0, Loss: 0.7880194612814513\n",
      "Epoch 1000, Loss: 0.004599254127663894\n",
      "Epoch 2000, Loss: 0.0018317707079696047\n",
      "Epoch 3000, Loss: 0.001129437561770157\n",
      "Epoch 4000, Loss: 0.0008128106366359926\n",
      "Epoch 5000, Loss: 0.0006334410451012898\n",
      "Epoch 6000, Loss: 0.0005182518857175114\n",
      "Epoch 7000, Loss: 0.00043813938231224175\n",
      "Epoch 8000, Loss: 0.0003792549212869441\n",
      "Epoch 9000, Loss: 0.00033417858082036855\n",
      "Epoch 10000, Loss: 0.00029858094556348006\n",
      "Epoch 11000, Loss: 0.0002697677112874187\n",
      "Epoch 12000, Loss: 0.0002459752956881268\n",
      "Final Accuracy: 1.0\n"
     ]
    }
   ],
   "source": [
    "import matplotlib.pyplot as plt\n",
    "import numpy as np\n",
    "\n",
    "\n",
    "# XOR dataset\n",
    "X = np.array([[0,0],[0,1],[1,0],[1,1]])\n",
    "Y = np.array([[0],[1],[1],[0]])\n",
    "\n",
    "\n",
    "# Model definition\n",
    "model = Sequential()\n",
    "model.add(Linear(2, 2))\n",
    "model.add(Tanh())  # Add Tanh activation\n",
    "model.add(Linear(2, 1))\n",
    "model.add(Tanh())  # Output layer with Tanh activation\n",
    "\n",
    "\n",
    "# Training parameters\n",
    "learning_rate = 0.1\n",
    "n_epochs = 13000\n",
    "\n",
    "# Instantiate the loss layer once before the training loop\n",
    "loss_layer = BinaryCrossEntropy()\n",
    "\n",
    "# Training loop\n",
    "for epoch in range(n_epochs):\n",
    "    # Forward pass\n",
    "    predictions = model.forward(X)\n",
    "    # Compute loss\n",
    "    loss = loss_layer.forward(predictions, Y)\n",
    "    # Compute gradients with respect to predictions\n",
    "    grad_loss = loss_layer.backward(predictions, Y)  # Corrected to pass predictions and targets\n",
    "    # Backward pass through the model\n",
    "    grad_input = grad_loss\n",
    "    for layer in reversed(model.layers):\n",
    "        if hasattr(layer, 'backward'):\n",
    "            grad_input = layer.backward(grad_input)  # Ensure backward is defined and called\n",
    "\n",
    "    # Parameters update\n",
    "    for layer in model.layers:\n",
    "        if isinstance(layer, Linear):\n",
    "            layer.weights -= learning_rate * layer.grad_weights\n",
    "            layer.biases -= learning_rate * layer.grad_biases\n",
    "\n",
    "    if epoch % 1000 == 0:\n",
    "        print(f\"Epoch {epoch}, Loss: {loss}\")\n",
    "\n",
    "# Calculate final accuracy\n",
    "final_predictions = model.forward(X)\n",
    "correct_predictions = np.sum((final_predictions > 0.5) == Y)\n",
    "total_examples = Y.shape[0]\n",
    "final_accuracy = correct_predictions / total_examples\n",
    "print(f\"Final Accuracy: {final_accuracy}\")\n",
    "\n",
    "# Save the model weights\n",
    "save_model(model, \"model3_nnxor_weights.npz\")\n",
    "\n",
    "# Load the model weights\n",
    "load_model(model, \"model3_nnxor_weights.npz\")"
   ]
  },
  {
   "cell_type": "markdown",
   "id": "47d7454f-0dbd-40a3-a51c-c56ea1e5069b",
   "metadata": {},
   "source": [
    "### WEIGHTS & BIASES"
   ]
  },
  {
   "cell_type": "code",
   "execution_count": 10,
   "id": "9a9c4e06-5aeb-4341-becd-feb9b547c74c",
   "metadata": {},
   "outputs": [
    {
     "name": "stdout",
     "output_type": "stream",
     "text": [
      "Layer 0 weights:\n",
      " [[ 3.41566079  3.41207601]\n",
      " [-2.44644127 -2.44565319]]\n",
      "Layer 0 biases:\n",
      " [-1.6028618  3.5750369]\n",
      "Layer 2 weights:\n",
      " [[4.84001841 4.96393143]]\n",
      "Layer 2 biases:\n",
      " [-4.41465789]\n",
      "Tanh layer 1 output:\n",
      " [[-0.9220982   0.99843162]\n",
      " [ 0.94775194  0.81080823]\n",
      " [ 0.94811552  0.81053807]\n",
      " [ 0.99994209 -0.86605032]]\n",
      "Tanh layer 3 output:\n",
      " [[-0.9992153 ]\n",
      " [ 0.99954791]\n",
      " [ 0.99954829]\n",
      " [-0.99913705]]\n"
     ]
    }
   ],
   "source": [
    "def print_model_weights(model):\n",
    "    for idx, layer in enumerate(model.layers):\n",
    "        if hasattr(layer, 'weights'):\n",
    "            print(f\"Layer {idx} weights:\\n\", layer.weights)\n",
    "            print(f\"Layer {idx} biases:\\n\", layer.biases)\n",
    "\n",
    "print_model_weights(model)\n",
    "\n",
    "def print_tanh_outputs(model, X):\n",
    "    input = X\n",
    "    for idx, layer in enumerate(model.layers):\n",
    "        output = layer.forward(input)\n",
    "        if isinstance(layer, Tanh):\n",
    "            print(f\"Tanh layer {idx} output:\\n\", output)\n",
    "        input = output\n",
    "\n",
    "print_tanh_outputs(model, X)"
   ]
  },
  {
   "cell_type": "markdown",
   "id": "a233105b-44a0-4f30-bb1d-c99cf8e96509",
   "metadata": {},
   "source": [
    "### DECISION BOUNDARY"
   ]
  },
  {
   "cell_type": "code",
   "execution_count": 11,
   "id": "11b65bfe-0ee2-42d8-a492-4d0ccdd87ce1",
   "metadata": {},
   "outputs": [
    {
     "data": {
      "image/png": "[encoded data removed]",
      "text/plain": [
       "<Figure size 640x480 with 1 Axes>"
      ]
     },
     "metadata": {},
     "output_type": "display_data"
    }
   ],
   "source": [
    "def plot_decision_boundary(model, X, Y):\n",
    "    # Set min and max values and give it some padding\n",
    "    x_min, x_max = X[:, 0].min() - 1, X[:, 0].max() + 1\n",
    "    y_min, y_max = X[:, 1].min() - 1, X[:, 1].max() + 1\n",
    "    h = 0.01\n",
    "    # Generate a grid of points with distance h between them\n",
    "    xx, yy = np.meshgrid(np.arange(x_min, x_max, h), np.arange(y_min, y_max, h))\n",
    "    # Predict the function value for the whole grid\n",
    "    Z = model.forward(np.c_[xx.ravel(), yy.ravel()])\n",
    "    Z = Z.reshape(xx.shape)\n",
    "    # Plot the contour and training examples\n",
    "    plt.contourf(xx, yy, Z, alpha=0.5)\n",
    "    plt.scatter(X[:, 0], X[:, 1], c=Y[:, 0], alpha=0.5)\n",
    "    plt.title(\"Decision Boundary for XOR problem\")\n",
    "    plt.show()\n",
    "\n",
    "plot_decision_boundary(model, X, Y)"
   ]
  },
  {
   "cell_type": "markdown",
   "id": "d00974ee-d5b1-45fc-ab19-61e9588e4300",
   "metadata": {},
   "source": [
    "### HIDDEN LAYER"
   ]
  },
  {
   "cell_type": "code",
   "execution_count": 12,
   "id": "d7e42552-2c53-4c29-a1f1-ce631bcf7e5a",
   "metadata": {},
   "outputs": [
    {
     "name": "stdout",
     "output_type": "stream",
     "text": [
      "Hidden layer values:\n",
      " [[-1.6028618   3.5750369 ]\n",
      " [ 1.80921421  1.12938371]\n",
      " [ 1.812799    1.12859563]\n",
      " [ 5.22487501 -1.31705757]]\n"
     ]
    },
    {
     "data": {
      "image/png": "[encoded data removed]",
      "text/plain": [
       "<Figure size 640x480 with 1 Axes>"
      ]
     },
     "metadata": {},
     "output_type": "display_data"
    }
   ],
   "source": [
    "from sklearn.linear_model import LinearRegression\n",
    "\n",
    "def plot_hidden_layer_with_regression(model, X):\n",
    "    # Get hidden layer values\n",
    "    hidden_layer_values = model.layers[0].forward(X)\n",
    "    \n",
    "    # Plot the hidden layer values\n",
    "    plt.scatter(hidden_layer_values[:, 0], hidden_layer_values[:, 1], c='b', alpha=0.5)\n",
    "    \n",
    "    # Fit a linear regression line\n",
    "    lr = LinearRegression()\n",
    "    lr.fit(hidden_layer_values[:, 0].reshape(-1, 1), hidden_layer_values[:, 1].reshape(-1, 1))\n",
    "    x_values = np.linspace(np.min(hidden_layer_values[:, 0]), np.max(hidden_layer_values[:, 0]), 100)\n",
    "    y_values = lr.predict(x_values.reshape(-1, 1))\n",
    "\n",
    "    # Get hidden layer values\n",
    "    hidden_layer_values = model.layers[0].forward(X)\n",
    "    \n",
    "    # Print hidden layer values\n",
    "    print(\"Hidden layer values:\\n\", hidden_layer_values)\n",
    "    \n",
    "    # Plot the linear regression line\n",
    "    plt.plot(x_values, y_values, c='r')\n",
    "    \n",
    "    plt.title(\"Output of Hidden Layer with Regression Line\")\n",
    "    plt.xlabel(\"Hidden Neuron 1\")\n",
    "    plt.ylabel(\"Hidden Neuron 2\")\n",
    "    plt.show()\n",
    "\n",
    "plot_hidden_layer_with_regression(model, X)\n"
   ]
  },
  {
   "cell_type": "code",
   "execution_count": null,
   "id": "d162025c-83a2-47f6-bd74-adf631793a28",
   "metadata": {},
   "outputs": [],
   "source": []
  }
 ],
 "metadata": {
  "kernelspec": {
   "display_name": "Python 3 (ipykernel)",
   "language": "python",
   "name": "python3"
  },
  "language_info": {
   "codemirror_mode": {
    "name": "ipython",
    "version": 3
   },
   "file_extension": ".py",
   "mimetype": "text/x-python",
   "name": "python",
   "nbconvert_exporter": "python",
   "pygments_lexer": "ipython3",
   "version": "3.12.2"
  }
 },
 "nbformat": 4,
 "nbformat_minor": 5
}
